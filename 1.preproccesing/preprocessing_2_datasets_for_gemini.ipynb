{
 "cells": [
  {
   "cell_type": "code",
   "execution_count": null,
   "id": "135c8f2e",
   "metadata": {},
   "outputs": [],
   "source": [
    "from pathlib import Path\n",
    "import pandas as pd\n",
    "\n",
    "file_path = Path(\"data/all_cases_unmarked.csv\")\n",
    "\n",
    "try:\n",
    "\n",
    "    all_cases = pd.read_csv(file_path, encoding='utf-8')\n",
    "except pd.errors.ParserError:\n",
    "    try:\n",
    "    \n",
    "        all_cases = pd.read_csv(file_path, encoding='utf-8', sep=';')\n",
    "    except pd.errors.ParserError:\n",
    "    \n",
    "        all_cases = pd.read_csv(file_path, encoding='utf-8', header=None)\n",
    "\n",
    "all_cases.head(5)"
   ]
  },
  {
   "cell_type": "code",
   "execution_count": null,
   "id": "abecaf7c",
   "metadata": {},
   "outputs": [],
   "source": [
    "import pandas as pd\n",
    "\n",
    "file_path = Path(\"data/marked_sentences_472.csv\")\n",
    "\n",
    "try:\n",
    "\n",
    "    slavery = pd.read_csv(file_path, encoding='utf-8')\n",
    "except pd.errors.ParserError:\n",
    "    try:\n",
    "    \n",
    "        slavery = pd.read_csv(file_path, encoding='utf-8', sep=';')\n",
    "    except pd.errors.ParserError:\n",
    "    \n",
    "        slavery = pd.read_csv(file_path, encoding='utf-8', header=None)\n",
    "\n",
    "slavery.head(5)"
   ]
  },
  {
   "cell_type": "code",
   "execution_count": null,
   "id": "76fe36ad",
   "metadata": {},
   "outputs": [],
   "source": [
    "slavery = slavery[[\"case_number\", \"text\"]]"
   ]
  },
  {
   "cell_type": "code",
   "execution_count": null,
   "id": "6126db34",
   "metadata": {},
   "outputs": [],
   "source": [
    "all_cases = all_cases[[\"case_number\", \"text\"]]"
   ]
  },
  {
   "cell_type": "code",
   "execution_count": null,
   "id": "13bf0bac",
   "metadata": {},
   "outputs": [],
   "source": [
    "import re\n",
    "\n",
    "def extract_sentence(text):\n",
    "    if not isinstance(text, str): \n",
    "        return text  \n",
    "    \n",
    "    match = re.search(r'(?i)у\\s*с\\s*т\\s*а\\s*н\\s*о\\s*в\\s*и\\s*л\\s*:([\\s\\S]*?)п\\s*р\\s*и\\s*г\\s*о\\s*в\\s*о\\s*р\\s*и\\s*л\\s*:', text, re.IGNORECASE)\n",
    "    \n",
    "    return match.group(1).strip() if match else text  \n",
    "\n",
    "slavery['text'] = slavery['text'].apply(extract_sentence)"
   ]
  },
  {
   "cell_type": "markdown",
   "id": "c591d77e",
   "metadata": {},
   "source": [
    "Подсчитаем токены"
   ]
  },
  {
   "cell_type": "code",
   "execution_count": null,
   "id": "062a04ed",
   "metadata": {},
   "outputs": [],
   "source": [
    "def count_tokens(text):\n",
    "    if not isinstance(text, str):  \n",
    "        return 0  \n",
    "\n",
    "    words = text.split() \n",
    "    approx_tokens = len(words) * 1.3  # Примерная оценка токенов, учитывая средний коэффициент\n",
    "\n",
    "    return approx_tokens  \n",
    "\n",
    "slavery['tokens'] = slavery['text'].apply(count_tokens)\n",
    "total_tokens = slavery['tokens'].sum()\n",
    "print(f\"Сумма токенов: {total_tokens}\")"
   ]
  },
  {
   "cell_type": "code",
   "execution_count": null,
   "id": "5bdfccc0",
   "metadata": {},
   "outputs": [],
   "source": [
    "import re\n",
    "\n",
    "def extract_sentence(text):\n",
    "    if not isinstance(text, str): \n",
    "        return text  \n",
    "    \n",
    "    match = re.search(r'(?i)у\\s*с\\s*т\\s*а\\s*н\\s*о\\s*в\\s*и\\s*л\\s*:([\\s\\S]*?)п\\s*р\\s*и\\s*г\\s*о\\s*в\\s*о\\s*р\\s*и\\s*л\\s*:', text, re.IGNORECASE)\n",
    "    \n",
    "    return match.group(1).strip() if match else text  \n",
    "\n",
    "all_cases['text'] = all_cases['text'].apply(extract_sentence)"
   ]
  },
  {
   "cell_type": "markdown",
   "id": "ac12b3a8",
   "metadata": {},
   "source": [
    "Подсчитаем токены"
   ]
  },
  {
   "cell_type": "code",
   "execution_count": null,
   "id": "393d5504",
   "metadata": {},
   "outputs": [],
   "source": [
    "def count_tokens(text):\n",
    "    if not isinstance(text, str): \n",
    "        return 0 \n",
    "\n",
    "    words = text.split()  \n",
    "    approx_tokens = len(words) * 1.3  # Примерная оценка токенов, учитывая средний коэффициент\n",
    "\n",
    "    return approx_tokens \n",
    "\n",
    "all_cases['tokens'] = all_cases['text'].apply(count_tokens)\n",
    "total_tokens = all_cases['tokens'].sum()\n",
    "print(f\"Сумма токенов: {total_tokens}\")"
   ]
  },
  {
   "cell_type": "code",
   "execution_count": null,
   "id": "1fb2d6c4",
   "metadata": {},
   "outputs": [],
   "source": [
    "slavery.to_csv('marked_sentences_472_cutted.csv', index=False)"
   ]
  },
  {
   "cell_type": "code",
   "execution_count": null,
   "id": "bc0b6edd",
   "metadata": {},
   "outputs": [],
   "source": [
    "all_cases.to_csv('unmarked_sentences_cutted.csv', index=False)"
   ]
  }
 ],
 "metadata": {
  "language_info": {
   "name": "python"
  }
 },
 "nbformat": 4,
 "nbformat_minor": 5
}
