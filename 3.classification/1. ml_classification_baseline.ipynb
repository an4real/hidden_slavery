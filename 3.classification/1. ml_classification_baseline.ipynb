{
 "cells": [
  {
   "cell_type": "markdown",
   "metadata": {
    "id": "X1Prrfl7ds8U"
   },
   "source": [
    "# Imports"
   ]
  },
  {
   "cell_type": "code",
   "execution_count": 25,
   "metadata": {
    "executionInfo": {
     "elapsed": 816,
     "status": "ok",
     "timestamp": 1738249044517,
     "user": {
      "displayName": "Elena Mihalkova",
      "userId": "02614433945098756290"
     },
     "user_tz": -180
    },
    "id": "lGTB0Ri5dsWD"
   },
   "outputs": [],
   "source": [
    "import pandas as pd"
   ]
  },
  {
   "cell_type": "code",
   "execution_count": 44,
   "metadata": {
    "executionInfo": {
     "elapsed": 586,
     "status": "ok",
     "timestamp": 1738251628320,
     "user": {
      "displayName": "Elena Mihalkova",
      "userId": "02614433945098756290"
     },
     "user_tz": -180
    },
    "id": "yFWxeQwbf57S"
   },
   "outputs": [],
   "source": [
    "import re\n",
    "from sklearn.metrics import roc_auc_score, classification_report, confusion_matrix, accuracy_score"
   ]
  },
  {
   "cell_type": "code",
   "execution_count": 1,
   "metadata": {
    "colab": {
     "base_uri": "https://localhost:8080/"
    },
    "executionInfo": {
     "elapsed": 25266,
     "status": "ok",
     "timestamp": 1738249074227,
     "user": {
      "displayName": "Elena Mihalkova",
      "userId": "02614433945098756290"
     },
     "user_tz": -180
    },
    "id": "UARWh9wOgLF6",
    "outputId": "67048d18-f898-4bdb-9d8d-7620809ab313"
   },
   "outputs": [],
   "source": [
    "%%capture\n",
    "!pip install gdown\n",
    "!pip install pymystem3\n",
    "!pip install stop-words"
   ]
  },
  {
   "cell_type": "code",
   "execution_count": 29,
   "metadata": {
    "executionInfo": {
     "elapsed": 5,
     "status": "ok",
     "timestamp": 1738249074228,
     "user": {
      "displayName": "Elena Mihalkova",
      "userId": "02614433945098756290"
     },
     "user_tz": -180
    },
    "id": "0-R_xsSCgPLa"
   },
   "outputs": [],
   "source": [
    "import pymystem3\n",
    "import stop_words"
   ]
  },
  {
   "cell_type": "code",
   "execution_count": 45,
   "metadata": {
    "executionInfo": {
     "elapsed": 1,
     "status": "ok",
     "timestamp": 1738251629169,
     "user": {
      "displayName": "Elena Mihalkova",
      "userId": "02614433945098756290"
     },
     "user_tz": -180
    },
    "id": "dOMG8M1y3omD"
   },
   "outputs": [],
   "source": [
    "from sklearn.model_selection import train_test_split\n",
    "from sklearn.feature_extraction.text import TfidfVectorizer\n",
    "from sklearn.linear_model import LogisticRegression"
   ]
  },
  {
   "cell_type": "code",
   "execution_count": 54,
   "metadata": {
    "executionInfo": {
     "elapsed": 673,
     "status": "ok",
     "timestamp": 1738253130755,
     "user": {
      "displayName": "Elena Mihalkova",
      "userId": "02614433945098756290"
     },
     "user_tz": -180
    },
    "id": "B7v9jsa59c8V"
   },
   "outputs": [],
   "source": [
    "from sklearn.ensemble import GradientBoostingClassifier"
   ]
  },
  {
   "cell_type": "code",
   "execution_count": 56,
   "metadata": {
    "executionInfo": {
     "elapsed": 1,
     "status": "ok",
     "timestamp": 1738253218452,
     "user": {
      "displayName": "Elena Mihalkova",
      "userId": "02614433945098756290"
     },
     "user_tz": -180
    },
    "id": "oVkyYQmA9vZD"
   },
   "outputs": [],
   "source": [
    "from sklearn.tree import DecisionTreeClassifier"
   ]
  },
  {
   "cell_type": "code",
   "execution_count": 51,
   "metadata": {
    "executionInfo": {
     "elapsed": 598,
     "status": "ok",
     "timestamp": 1738252146966,
     "user": {
      "displayName": "Elena Mihalkova",
      "userId": "02614433945098756290"
     },
     "user_tz": -180
    },
    "id": "wEiHiZQ55oC8"
   },
   "outputs": [],
   "source": [
    "from sklearn.utils import resample"
   ]
  },
  {
   "cell_type": "markdown",
   "metadata": {
    "id": "V818knWGdxV0"
   },
   "source": [
    "# Global variables"
   ]
  },
  {
   "cell_type": "code",
   "execution_count": 30,
   "metadata": {
    "executionInfo": {
     "elapsed": 3,
     "status": "ok",
     "timestamp": 1738249074228,
     "user": {
      "displayName": "Elena Mihalkova",
      "userId": "02614433945098756290"
     },
     "user_tz": -180
    },
    "id": "tFn1IBDSgXP5"
   },
   "outputs": [],
   "source": [
    "mstem = pymystem3.Mystem()"
   ]
  },
  {
   "cell_type": "code",
   "execution_count": null,
   "metadata": {
    "executionInfo": {
     "elapsed": 19066,
     "status": "ok",
     "timestamp": 1738249093291,
     "user": {
      "displayName": "Elena Mihalkova",
      "userId": "02614433945098756290"
     },
     "user_tz": -180
    },
    "id": "zFcBUd1NdhT8"
   },
   "outputs": [],
   "source": [
    "import gdown\n",
    "import os\n",
    "import pandas as pd\n",
    "os.makedirs(\"data\", exist_ok=True)\n",
    "file_id = \"1_4jFNzQYvnMvcQEt0mepxK_muMiKGv3p\"  \n",
    "url = f\"https://drive.google.com/uc?id={file_id}\"\n",
    "output = \"data/marked_sentences_472.csv\"\n",
    "gdown.download(url, output, quiet=False)\n",
    "slavery = pd.read_csv(output)\n",
    "slavery.head(5)"
   ]
  },
  {
   "cell_type": "code",
   "execution_count": 34,
   "metadata": {
    "executionInfo": {
     "elapsed": 4,
     "status": "ok",
     "timestamp": 1738249113030,
     "user": {
      "displayName": "Elena Mihalkova",
      "userId": "02614433945098756290"
     },
     "user_tz": -180
    },
    "id": "lDsQ0IM0dhT_"
   },
   "outputs": [],
   "source": [
    "slavery['text'] = slavery['text'].astype(str)\n",
    "slavery['Slavery_1_step'] = pd.to_numeric(slavery['Slavery_1_step'], errors='coerce').fillna(0).astype(int)\n",
    "slavery['Slavery_2_expert'] = pd.to_numeric(slavery['Slavery_2_expert'], errors='coerce').fillna(0).astype(int)"
   ]
  },
  {
   "cell_type": "code",
   "execution_count": 35,
   "metadata": {
    "executionInfo": {
     "elapsed": 3,
     "status": "ok",
     "timestamp": 1738249113030,
     "user": {
      "displayName": "Elena Mihalkova",
      "userId": "02614433945098756290"
     },
     "user_tz": -180
    },
    "id": "QbmGrQaAdhT_"
   },
   "outputs": [],
   "source": [
    "#55/87\n",
    "patterns_set_1 = [\n",
    "    r'\\bкабальные\\b',\n",
    "    r'\\bотрабатывать\\b|\\bотработать\\b|\\bотработав\\b',\n",
    "    r'не оставля(ла|ли|ть)? без (присмотра|наблюдения)',\n",
    "    r'\\bрабств(о|а|е)?\\b'\n",
    "]\n",
    "\n",
    "patterns_first_set = [\n",
    "    r'\\bпродолж(ение|ению|ать|ить)? заняти(я|ю|е)? проституцией\\b',\n",
    "    r'\\bпродолжить\\b оказывать сексуальные услуги',\n",
    "    r'\\bза отказ\\b продолжать заниматься проституцией',\n",
    "    r'\\bотрабатывать\\b|\\bотработать\\b|\\bотработав\\b'\n",
    "]\n",
    "\n",
    "patterns_second_set = [\n",
    "    r'\\bнасили(е|я|ю)?\\b',\n",
    "    r'\\bштраф(ы|ов|овать)?\\b',\n",
    "    r'\\bугро(зы|жать|жал|жала|жали)?\\b',\n",
    "    r'\\bизби(л|вать|ение)?\\b'\n",
    "]\n",
    "\n",
    "compiled_patterns_set_1 = [re.compile(pattern, re.IGNORECASE) for pattern in patterns_set_1]\n",
    "compiled_patterns_first_set = [re.compile(pattern, re.IGNORECASE) for pattern in patterns_first_set]\n",
    "compiled_patterns_second_set = [re.compile(pattern, re.IGNORECASE) for pattern in patterns_second_set]"
   ]
  },
  {
   "cell_type": "code",
   "execution_count": 36,
   "metadata": {
    "executionInfo": {
     "elapsed": 3,
     "status": "ok",
     "timestamp": 1738249113030,
     "user": {
      "displayName": "Elena Mihalkova",
      "userId": "02614433945098756290"
     },
     "user_tz": -180
    },
    "id": "wnwwjT7mt-Ip"
   },
   "outputs": [],
   "source": [
    "stopwords = stop_words.get_stop_words('russian')\n",
    "stopwords.extend(stop_words.get_stop_words('english'))\n",
    "stopwords = list(set(stopwords))\n",
    "stopwords += [\n",
    "    'фио', 'гггг', 'подсудимый', 'суд',\n",
    "    'изымать', 'согласно', 'наказание',\n",
    "    'потерпевший', 'показание', 'судебный',\n",
    "    'преступление', 'адрес', 'свидетель',\n",
    "    'свой', 'находиться', 'час', 'ход',\n",
    "    'дело', 'российский федерация'\n",
    "             ]"
   ]
  },
  {
   "cell_type": "markdown",
   "metadata": {
    "id": "o-XPm2fEgakx"
   },
   "source": [
    "# Classifier"
   ]
  },
  {
   "cell_type": "code",
   "execution_count": 14,
   "metadata": {
    "executionInfo": {
     "elapsed": 337,
     "status": "ok",
     "timestamp": 1738245543793,
     "user": {
      "displayName": "Elena Mihalkova",
      "userId": "02614433945098756290"
     },
     "user_tz": -180
    },
    "id": "RQhr9u7YggIa"
   },
   "outputs": [],
   "source": [
    "# Classifier on patterns\n",
    "def classify_text(text, patterns_set_1, patterns_first_set, patterns_second_set):\n",
    "\n",
    "    found_set_1 = any(pattern.search(text) for pattern in patterns_set_1)\n",
    "    found_first_set = any(pattern.search(text) for pattern in patterns_first_set)\n",
    "    found_second_set = any(pattern.search(text) for pattern in patterns_second_set)\n",
    "\n",
    "    if found_set_1 or (found_first_set and found_second_set):\n",
    "        return 1\n",
    "    return 0"
   ]
  },
  {
   "cell_type": "code",
   "execution_count": 23,
   "metadata": {
    "executionInfo": {
     "elapsed": 33355,
     "status": "ok",
     "timestamp": 1738245936377,
     "user": {
      "displayName": "Elena Mihalkova",
      "userId": "02614433945098756290"
     },
     "user_tz": -180
    },
    "id": "KGltzTMDgjB6"
   },
   "outputs": [],
   "source": [
    "# Применение классификатора к DataFrame\n",
    "slavery['Predicted_Slavery'] = slavery['text'].apply(lambda x: classify_text(x, compiled_patterns_set_1, compiled_patterns_first_set, compiled_patterns_second_set))"
   ]
  },
  {
   "cell_type": "code",
   "execution_count": 24,
   "metadata": {
    "colab": {
     "base_uri": "https://localhost:8080/"
    },
    "executionInfo": {
     "elapsed": 338,
     "status": "ok",
     "timestamp": 1738245999129,
     "user": {
      "displayName": "Elena Mihalkova",
      "userId": "02614433945098756290"
     },
     "user_tz": -180
    },
    "id": "hjF0VuYOgB_y",
    "outputId": "340cecac-ef1f-4fda-8252-18ea189dbd18"
   },
   "outputs": [
    {
     "name": "stdout",
     "output_type": "stream",
     "text": [
      "ROC AUC: 0.9326605602300564\n",
      "Classification Report - slav_1:\n",
      "               precision    recall  f1-score   support\n",
      "\n",
      "           0       0.99      0.96      0.98       458\n",
      "           1       0.69      0.90      0.78        41\n",
      "\n",
      "    accuracy                           0.96       499\n",
      "   macro avg       0.84      0.93      0.88       499\n",
      "weighted avg       0.97      0.96      0.96       499\n",
      " [[441  17]\n",
      " [  4  37]]\n",
      "Classification Report - slav_2:\n",
      "               precision    recall  f1-score   support\n",
      "\n",
      "           0       1.00      0.91      0.95       489\n",
      "           1       0.15      0.80      0.25        10\n",
      "\n",
      "    accuracy                           0.90       499\n",
      "   macro avg       0.57      0.85      0.60       499\n",
      "weighted avg       0.98      0.90      0.93       499\n",
      " [[443  46]\n",
      " [  2   8]]\n"
     ]
    }
   ],
   "source": [
    "# Оценка качества классификации\n",
    "print(\"ROC AUC:\", roc_auc_score(slavery['Slavery_1_step'], slavery['Predicted_Slavery']))\n",
    "print(\"Classification Report - slav_1:\\n\",\n",
    "      classification_report(slavery['Slavery_1_step'], slavery['Predicted_Slavery']),\n",
    "      confusion_matrix(slavery['Slavery_1_step'], slavery['Predicted_Slavery']))\n",
    "print(\"Classification Report - slav_2:\\n\",\n",
    "      classification_report(slavery['Slavery_2_expert'], slavery['Predicted_Slavery']),\n",
    "      confusion_matrix(slavery['Slavery_2_expert'], slavery['Predicted_Slavery']))"
   ]
  },
  {
   "cell_type": "code",
   "execution_count": 37,
   "metadata": {
    "executionInfo": {
     "elapsed": 340,
     "status": "ok",
     "timestamp": 1738249125637,
     "user": {
      "displayName": "Elena Mihalkova",
      "userId": "02614433945098756290"
     },
     "user_tz": -180
    },
    "id": "-rCZJ-SadhUA"
   },
   "outputs": [],
   "source": [
    "# Classifier funs\n",
    "def keep_only_rus(text):\n",
    "    new_text = ''\n",
    "    for symbol in text:\n",
    "        if re.match(r'[А-я]', symbol) or symbol == ' ':\n",
    "            new_text += symbol\n",
    "        else:\n",
    "            new_text += ' '\n",
    "    return new_text\n",
    "\n",
    "def del_double_spaces(text_with_double_spaces):\n",
    "    while '  ' in text_with_double_spaces:\n",
    "        text_with_double_spaces = text_with_double_spaces.replace('  ',' ')\n",
    "    return text_with_double_spaces\n",
    "\n",
    "def lemmatize(raw_text):\n",
    "    return ''.join(mstem.lemmatize(raw_text)).strip()\n",
    "\n",
    "def del_stopwords(text):\n",
    "    global stopwords\n",
    "    new_text = []\n",
    "    for word in text.split():\n",
    "        if word not in stopwords and len(word) > 2:\n",
    "            new_text.append(word)\n",
    "    return ' '.join(new_text)"
   ]
  },
  {
   "cell_type": "code",
   "execution_count": 38,
   "metadata": {
    "executionInfo": {
     "elapsed": 2057770,
     "status": "ok",
     "timestamp": 1738251190933,
     "user": {
      "displayName": "Elena Mihalkova",
      "userId": "02614433945098756290"
     },
     "user_tz": -180
    },
    "id": "d_CXIx06uMZ3"
   },
   "outputs": [],
   "source": [
    "slavery['cleaned_text'] = slavery['text'].str.lower()\n",
    "slavery['cleaned_text'] = slavery['cleaned_text'].apply(keep_only_rus)\n",
    "slavery['cleaned_text'] = slavery['cleaned_text'].apply(del_double_spaces)\n",
    "# Эта колонка долго генерится, ее лучше сохранить как отдельный цсв файл и добавлять как колонку к slavery\n",
    "slavery['cleaned_text'] = slavery['cleaned_text'].apply(lemmatize)\n",
    "slavery['cleaned_text'] = slavery['cleaned_text'].apply(del_stopwords)\n",
    "slavery['cleaned_text'] = slavery['cleaned_text'].apply(del_double_spaces)\n",
    "slavery = slavery[slavery['cleaned_text'].notna()]"
   ]
  },
  {
   "cell_type": "code",
   "execution_count": 39,
   "metadata": {
    "colab": {
     "base_uri": "https://localhost:8080/",
     "height": 458
    },
    "collapsed": true,
    "executionInfo": {
     "elapsed": 14,
     "status": "ok",
     "timestamp": 1738251190933,
     "user": {
      "displayName": "Elena Mihalkova",
      "userId": "02614433945098756290"
     },
     "user_tz": -180
    },
    "id": "z9wcaULddhUA",
    "outputId": "b8e0d231-fcd6-4e49-8e75-14c64044b902"
   },
   "outputs": [
    {
     "data": {
      "text/html": [
       "<div>\n",
       "<style scoped>\n",
       "    .dataframe tbody tr th:only-of-type {\n",
       "        vertical-align: middle;\n",
       "    }\n",
       "\n",
       "    .dataframe tbody tr th {\n",
       "        vertical-align: top;\n",
       "    }\n",
       "\n",
       "    .dataframe thead th {\n",
       "        text-align: right;\n",
       "    }\n",
       "</style>\n",
       "<table border=\"1\" class=\"dataframe\">\n",
       "  <thead>\n",
       "    <tr style=\"text-align: right;\">\n",
       "      <th></th>\n",
       "      <th>cleaned_text</th>\n",
       "    </tr>\n",
       "  </thead>\n",
       "  <tbody>\n",
       "    <tr>\n",
       "      <th>0</th>\n",
       "      <td>ифио август судья советский районный рсо алани...</td>\n",
       "    </tr>\n",
       "    <tr>\n",
       "      <th>1</th>\n",
       "      <td>приговор российский федерация дубна сентябрь д...</td>\n",
       "    </tr>\n",
       "    <tr>\n",
       "      <th>2</th>\n",
       "      <td>российский федерация автозаводский районный пр...</td>\n",
       "    </tr>\n",
       "    <tr>\n",
       "      <th>3</th>\n",
       "      <td>российский федерация саранск республика мордов...</td>\n",
       "    </tr>\n",
       "    <tr>\n",
       "      <th>4</th>\n",
       "      <td>приговор российский федерация июль тверь тверс...</td>\n",
       "    </tr>\n",
       "    <tr>\n",
       "      <th>...</th>\n",
       "      <td>...</td>\n",
       "    </tr>\n",
       "    <tr>\n",
       "      <th>494</th>\n",
       "      <td>текст приговор российский федерация петербург ...</td>\n",
       "    </tr>\n",
       "    <tr>\n",
       "      <th>495</th>\n",
       "      <td>текст приговор приговор российский федерация а...</td>\n",
       "    </tr>\n",
       "    <tr>\n",
       "      <th>496</th>\n",
       "      <td>текст приговор российский федерация сентябрь г...</td>\n",
       "    </tr>\n",
       "    <tr>\n",
       "      <th>497</th>\n",
       "      <td>текст приговор приговор российский федерация н...</td>\n",
       "    </tr>\n",
       "    <tr>\n",
       "      <th>498</th>\n",
       "      <td>текст приговор приговор российский федерация с...</td>\n",
       "    </tr>\n",
       "  </tbody>\n",
       "</table>\n",
       "<p>499 rows × 1 columns</p>\n",
       "</div><br><label><b>dtype:</b> object</label>"
      ],
      "text/plain": [
       "0      ифио август судья советский районный рсо алани...\n",
       "1      приговор российский федерация дубна сентябрь д...\n",
       "2      российский федерация автозаводский районный пр...\n",
       "3      российский федерация саранск республика мордов...\n",
       "4      приговор российский федерация июль тверь тверс...\n",
       "                             ...                        \n",
       "494    текст приговор российский федерация петербург ...\n",
       "495    текст приговор приговор российский федерация а...\n",
       "496    текст приговор российский федерация сентябрь г...\n",
       "497    текст приговор приговор российский федерация н...\n",
       "498    текст приговор приговор российский федерация с...\n",
       "Name: cleaned_text, Length: 499, dtype: object"
      ]
     },
     "execution_count": 39,
     "metadata": {},
     "output_type": "execute_result"
    }
   ],
   "source": [
    "slavery['cleaned_text']"
   ]
  },
  {
   "cell_type": "code",
   "execution_count": 48,
   "metadata": {
    "colab": {
     "base_uri": "https://localhost:8080/"
    },
    "executionInfo": {
     "elapsed": 11716,
     "status": "ok",
     "timestamp": 1738251847232,
     "user": {
      "displayName": "Elena Mihalkova",
      "userId": "02614433945098756290"
     },
     "user_tz": -180
    },
    "id": "WQZJabE8dhUB",
    "outputId": "b5325659-0fcf-4e8b-c0dd-d6b32471fe07"
   },
   "outputs": [
    {
     "name": "stdout",
     "output_type": "stream",
     "text": [
      "Accuracy: 0.95\n",
      "ROC AUC: 0.9219858156028369\n",
      "Classification Report:\n",
      "               precision    recall  f1-score   support\n",
      "\n",
      "           0       0.95      1.00      0.97        94\n",
      "           1       1.00      0.17      0.29         6\n",
      "\n",
      "    accuracy                           0.95       100\n",
      "   macro avg       0.97      0.58      0.63       100\n",
      "weighted avg       0.95      0.95      0.93       100\n",
      " [[94  0]\n",
      " [ 5  1]]\n"
     ]
    }
   ],
   "source": [
    "tfidf = TfidfVectorizer()\n",
    "X = tfidf.fit_transform(slavery['cleaned_text'])\n",
    "y = slavery['Slavery_1_step']\n",
    "\n",
    "X_train, X_test, y_train, y_test = train_test_split(X, y, test_size=0.2, random_state=42)\n",
    "\n",
    "logreg = LogisticRegression()\n",
    "logreg.fit(X_train, y_train)\n",
    "\n",
    "y_pred = logreg.predict(X_test)\n",
    "y_prob = logreg.predict_proba(X_test)[:, 1]\n",
    "\n",
    "print(\"Accuracy:\", accuracy_score(y_test, y_pred))\n",
    "print(\"ROC AUC:\", roc_auc_score(y_test, y_prob))\n",
    "print(\"Classification Report:\\n\",\n",
    "      classification_report(y_test, y_pred),\n",
    "      confusion_matrix(y_test, y_pred))\n",
    "# Плохой результат."
   ]
  },
  {
   "cell_type": "code",
   "execution_count": 50,
   "metadata": {
    "colab": {
     "base_uri": "https://localhost:8080/"
    },
    "executionInfo": {
     "elapsed": 11178,
     "status": "ok",
     "timestamp": 1738252078720,
     "user": {
      "displayName": "Elena Mihalkova",
      "userId": "02614433945098756290"
     },
     "user_tz": -180
    },
    "id": "0a3mNRcj5Qkh",
    "outputId": "4f2288bb-a0ba-453e-92b1-50c9ccb9b61b"
   },
   "outputs": [
    {
     "name": "stdout",
     "output_type": "stream",
     "text": [
      "Accuracy: 0.98\n",
      "ROC AUC: 0.7193877551020408\n",
      "Classification Report:\n",
      "               precision    recall  f1-score   support\n",
      "\n",
      "           0       0.98      1.00      0.99        98\n",
      "           1       0.00      0.00      0.00         2\n",
      "\n",
      "    accuracy                           0.98       100\n",
      "   macro avg       0.49      0.50      0.49       100\n",
      "weighted avg       0.96      0.98      0.97       100\n",
      " [[98  0]\n",
      " [ 2  0]]\n"
     ]
    },
    {
     "name": "stderr",
     "output_type": "stream",
     "text": [
      "/usr/local/lib/python3.11/dist-packages/sklearn/metrics/_classification.py:1565: UndefinedMetricWarning: Precision is ill-defined and being set to 0.0 in labels with no predicted samples. Use `zero_division` parameter to control this behavior.\n",
      "  _warn_prf(average, modifier, f\"{metric.capitalize()} is\", len(result))\n",
      "/usr/local/lib/python3.11/dist-packages/sklearn/metrics/_classification.py:1565: UndefinedMetricWarning: Precision is ill-defined and being set to 0.0 in labels with no predicted samples. Use `zero_division` parameter to control this behavior.\n",
      "  _warn_prf(average, modifier, f\"{metric.capitalize()} is\", len(result))\n",
      "/usr/local/lib/python3.11/dist-packages/sklearn/metrics/_classification.py:1565: UndefinedMetricWarning: Precision is ill-defined and being set to 0.0 in labels with no predicted samples. Use `zero_division` parameter to control this behavior.\n",
      "  _warn_prf(average, modifier, f\"{metric.capitalize()} is\", len(result))\n"
     ]
    }
   ],
   "source": [
    "tfidf = TfidfVectorizer()\n",
    "X = tfidf.fit_transform(slavery['cleaned_text'])\n",
    "y = slavery['Slavery_2_expert']\n",
    "\n",
    "X_train, X_test, y_train, y_test = train_test_split(X, y, test_size=0.2, random_state=42)\n",
    "\n",
    "logreg = LogisticRegression()\n",
    "logreg.fit(X_train, y_train)\n",
    "\n",
    "y_pred = logreg.predict(X_test)\n",
    "y_prob = logreg.predict_proba(X_test)[:, 1]\n",
    "\n",
    "print(\"Accuracy:\", accuracy_score(y_test, y_pred))\n",
    "print(\"ROC AUC:\", roc_auc_score(y_test, y_prob))\n",
    "print(\"Classification Report:\\n\",\n",
    "      classification_report(y_test, y_pred),\n",
    "      confusion_matrix(y_test, y_pred))\n",
    "# Пишет, что выборка маленькая. Результат плохой."
   ]
  },
  {
   "cell_type": "code",
   "execution_count": 52,
   "metadata": {
    "colab": {
     "base_uri": "https://localhost:8080/"
    },
    "executionInfo": {
     "elapsed": 20959,
     "status": "ok",
     "timestamp": 1738252231545,
     "user": {
      "displayName": "Elena Mihalkova",
      "userId": "02614433945098756290"
     },
     "user_tz": -180
    },
    "id": "aiBfU7k-dhUB",
    "outputId": "cf8d9bc1-8ec3-4766-c175-e962e66096e0"
   },
   "outputs": [
    {
     "name": "stdout",
     "output_type": "stream",
     "text": [
      "Accuracy: 0.9945652173913043\n",
      "ROC AUC: 1.0\n",
      "Classification Report:\n",
      "               precision    recall  f1-score   support\n",
      "\n",
      "           0       1.00      0.99      0.99        96\n",
      "           1       0.99      1.00      0.99        88\n",
      "\n",
      "    accuracy                           0.99       184\n",
      "   macro avg       0.99      0.99      0.99       184\n",
      "weighted avg       0.99      0.99      0.99       184\n",
      " [[95  1]\n",
      " [ 0 88]]\n"
     ]
    }
   ],
   "source": [
    "slavery_majority = slavery[slavery['Slavery_1_step'] == 0]\n",
    "slavery_minority = slavery[slavery['Slavery_1_step'] == 1]\n",
    "\n",
    "slavery_minority_upsampled = resample(slavery_minority,\n",
    "                                      replace=True,\n",
    "                                      n_samples=len(slavery_majority),\n",
    "                                      random_state=42)\n",
    "\n",
    "slavery_upsampled = pd.concat([slavery_majority, slavery_minority_upsampled])\n",
    "\n",
    "vectorizer = TfidfVectorizer()\n",
    "X_upsampled = vectorizer.fit_transform(slavery_upsampled['cleaned_text'])\n",
    "y_upsampled = slavery_upsampled['Slavery_1_step']\n",
    "\n",
    "X_train, X_test, y_train, y_test = train_test_split(X_upsampled, y_upsampled, test_size=0.2, random_state=42)\n",
    "\n",
    "model = LogisticRegression(class_weight='balanced')\n",
    "model.fit(X_train, y_train)\n",
    "\n",
    "y_pred = model.predict(X_test)\n",
    "y_prob = model.predict_proba(X_test)[:, 1]\n",
    "\n",
    "print(\"Accuracy:\", accuracy_score(y_test, y_pred))\n",
    "print(\"ROC AUC:\", roc_auc_score(y_test, y_prob))\n",
    "print(\"Classification Report:\\n\",\n",
    "      classification_report(y_test, y_pred),\n",
    "      confusion_matrix(y_test, y_pred))"
   ]
  },
  {
   "cell_type": "code",
   "execution_count": 53,
   "metadata": {
    "colab": {
     "base_uri": "https://localhost:8080/"
    },
    "executionInfo": {
     "elapsed": 34219,
     "status": "ok",
     "timestamp": 1738253091899,
     "user": {
      "displayName": "Elena Mihalkova",
      "userId": "02614433945098756290"
     },
     "user_tz": -180
    },
    "id": "798aSG5r9FC9",
    "outputId": "9daa3fb1-56eb-466b-ce87-387c5cc9d2da"
   },
   "outputs": [
    {
     "name": "stdout",
     "output_type": "stream",
     "text": [
      "Accuracy: 1.0\n",
      "ROC AUC: 1.0\n",
      "Classification Report:\n",
      "               precision    recall  f1-score   support\n",
      "\n",
      "           0       1.00      1.00      1.00        95\n",
      "           1       1.00      1.00      1.00       101\n",
      "\n",
      "    accuracy                           1.00       196\n",
      "   macro avg       1.00      1.00      1.00       196\n",
      "weighted avg       1.00      1.00      1.00       196\n",
      " [[ 95   0]\n",
      " [  0 101]]\n"
     ]
    }
   ],
   "source": [
    "slavery_majority = slavery[slavery['Slavery_2_expert'] == 0]\n",
    "slavery_minority = slavery[slavery['Slavery_2_expert'] == 1]\n",
    "\n",
    "slavery_minority_upsampled = resample(slavery_minority,\n",
    "                                      replace=True,\n",
    "                                      n_samples=len(slavery_majority),\n",
    "                                      random_state=42)\n",
    "\n",
    "slavery_upsampled = pd.concat([slavery_majority, slavery_minority_upsampled])\n",
    "\n",
    "vectorizer = TfidfVectorizer()\n",
    "X_upsampled = vectorizer.fit_transform(slavery_upsampled['cleaned_text'])\n",
    "y_upsampled = slavery_upsampled['Slavery_2_expert']\n",
    "\n",
    "X_train, X_test, y_train, y_test = train_test_split(X_upsampled, y_upsampled, test_size=0.2, random_state=42)\n",
    "\n",
    "model = LogisticRegression(class_weight='balanced')\n",
    "model.fit(X_train, y_train)\n",
    "\n",
    "y_pred = model.predict(X_test)\n",
    "y_prob = model.predict_proba(X_test)[:, 1]\n",
    "\n",
    "print(\"Accuracy:\", accuracy_score(y_test, y_pred))\n",
    "print(\"ROC AUC:\", roc_auc_score(y_test, y_prob))\n",
    "print(\"Classification Report:\\n\",\n",
    "      classification_report(y_test, y_pred),\n",
    "      confusion_matrix(y_test, y_pred))"
   ]
  },
  {
   "cell_type": "code",
   "execution_count": 57,
   "metadata": {
    "colab": {
     "base_uri": "https://localhost:8080/"
    },
    "executionInfo": {
     "elapsed": 51516,
     "status": "ok",
     "timestamp": 1738253285384,
     "user": {
      "displayName": "Elena Mihalkova",
      "userId": "02614433945098756290"
     },
     "user_tz": -180
    },
    "id": "qu-IBxjVdhUB",
    "outputId": "b8a6258d-5dc8-4865-e1bf-acf1920f47cc"
   },
   "outputs": [
    {
     "name": "stdout",
     "output_type": "stream",
     "text": [
      "Accuracy: 0.99\n",
      "ROC AUC: 0.8874113475177305\n",
      "Classification Report:\n",
      "               precision    recall  f1-score   support\n",
      "\n",
      "           0       0.99      1.00      0.99        94\n",
      "           1       1.00      0.83      0.91         6\n",
      "\n",
      "    accuracy                           0.99       100\n",
      "   macro avg       0.99      0.92      0.95       100\n",
      "weighted avg       0.99      0.99      0.99       100\n",
      " [[94  0]\n",
      " [ 1  5]]\n"
     ]
    }
   ],
   "source": [
    "tfidf = TfidfVectorizer()\n",
    "X = tfidf.fit_transform(slavery['cleaned_text'])\n",
    "y = slavery['Slavery_1_step']\n",
    "\n",
    "X_train, X_test, y_train, y_test = train_test_split(X, y, test_size=0.2, random_state=42)\n",
    "\n",
    "gb_classifier = GradientBoostingClassifier()\n",
    "gb_classifier.fit(X_train, y_train)\n",
    "\n",
    "y_pred = gb_classifier.predict(X_test)\n",
    "y_prob = gb_classifier.predict_proba(X_test)[:, 1]\n",
    "\n",
    "print(\"Accuracy:\", accuracy_score(y_test, y_pred))\n",
    "print(\"ROC AUC:\", roc_auc_score(y_test, y_prob))\n",
    "print(\"Classification Report:\\n\",\n",
    "      classification_report(y_test, y_pred),\n",
    "      confusion_matrix(y_test, y_pred))"
   ]
  },
  {
   "cell_type": "code",
   "execution_count": 58,
   "metadata": {
    "colab": {
     "base_uri": "https://localhost:8080/"
    },
    "executionInfo": {
     "elapsed": 37183,
     "status": "ok",
     "timestamp": 1738253327271,
     "user": {
      "displayName": "Elena Mihalkova",
      "userId": "02614433945098756290"
     },
     "user_tz": -180
    },
    "id": "F95F6zAS94lz",
    "outputId": "59210de5-da67-40fd-d02e-00b0ec29289b"
   },
   "outputs": [
    {
     "name": "stdout",
     "output_type": "stream",
     "text": [
      "Accuracy: 0.98\n",
      "ROC AUC: 0.7040816326530612\n",
      "Classification Report:\n",
      "               precision    recall  f1-score   support\n",
      "\n",
      "           0       0.98      1.00      0.99        98\n",
      "           1       0.00      0.00      0.00         2\n",
      "\n",
      "    accuracy                           0.98       100\n",
      "   macro avg       0.49      0.50      0.49       100\n",
      "weighted avg       0.96      0.98      0.97       100\n",
      " [[98  0]\n",
      " [ 2  0]]\n"
     ]
    },
    {
     "name": "stderr",
     "output_type": "stream",
     "text": [
      "/usr/local/lib/python3.11/dist-packages/sklearn/metrics/_classification.py:1565: UndefinedMetricWarning: Precision is ill-defined and being set to 0.0 in labels with no predicted samples. Use `zero_division` parameter to control this behavior.\n",
      "  _warn_prf(average, modifier, f\"{metric.capitalize()} is\", len(result))\n",
      "/usr/local/lib/python3.11/dist-packages/sklearn/metrics/_classification.py:1565: UndefinedMetricWarning: Precision is ill-defined and being set to 0.0 in labels with no predicted samples. Use `zero_division` parameter to control this behavior.\n",
      "  _warn_prf(average, modifier, f\"{metric.capitalize()} is\", len(result))\n",
      "/usr/local/lib/python3.11/dist-packages/sklearn/metrics/_classification.py:1565: UndefinedMetricWarning: Precision is ill-defined and being set to 0.0 in labels with no predicted samples. Use `zero_division` parameter to control this behavior.\n",
      "  _warn_prf(average, modifier, f\"{metric.capitalize()} is\", len(result))\n"
     ]
    }
   ],
   "source": [
    "tfidf = TfidfVectorizer()\n",
    "X = tfidf.fit_transform(slavery['cleaned_text'])\n",
    "y = slavery['Slavery_2_expert']\n",
    "\n",
    "X_train, X_test, y_train, y_test = train_test_split(X, y, test_size=0.2, random_state=42)\n",
    "\n",
    "gb_classifier = GradientBoostingClassifier()\n",
    "gb_classifier.fit(X_train, y_train)\n",
    "\n",
    "y_pred = gb_classifier.predict(X_test)\n",
    "y_prob = gb_classifier.predict_proba(X_test)[:, 1]\n",
    "\n",
    "print(\"Accuracy:\", accuracy_score(y_test, y_pred))\n",
    "print(\"ROC AUC:\", roc_auc_score(y_test, y_prob))\n",
    "print(\"Classification Report:\\n\",\n",
    "      classification_report(y_test, y_pred),\n",
    "      confusion_matrix(y_test, y_pred))"
   ]
  },
  {
   "cell_type": "code",
   "execution_count": 60,
   "metadata": {
    "colab": {
     "base_uri": "https://localhost:8080/"
    },
    "executionInfo": {
     "elapsed": 12455,
     "status": "ok",
     "timestamp": 1738253381743,
     "user": {
      "displayName": "Elena Mihalkova",
      "userId": "02614433945098756290"
     },
     "user_tz": -180
    },
    "id": "z6PQbctudhUC",
    "outputId": "44c13989-e7e7-4302-9e3d-e0d3d313e0e7"
   },
   "outputs": [
    {
     "name": "stdout",
     "output_type": "stream",
     "text": [
      "Accuracy: 0.92\n",
      "ROC AUC: 0.8971631205673759\n",
      "Classification Report:\n",
      "               precision    recall  f1-score   support\n",
      "\n",
      "           0       0.99      0.93      0.96        94\n",
      "           1       0.42      0.83      0.56         6\n",
      "\n",
      "    accuracy                           0.92       100\n",
      "   macro avg       0.70      0.88      0.76       100\n",
      "weighted avg       0.95      0.92      0.93       100\n",
      " [[87  7]\n",
      " [ 1  5]]\n"
     ]
    }
   ],
   "source": [
    "tfidf = TfidfVectorizer()\n",
    "X = tfidf.fit_transform(slavery['cleaned_text'])\n",
    "y = slavery['Slavery_1_step']\n",
    "\n",
    "X_train, X_test, y_train, y_test = train_test_split(X, y, test_size=0.2, random_state=42)\n",
    "\n",
    "dt_classifier = DecisionTreeClassifier(\n",
    "    max_depth=10,\n",
    "    min_samples_split=5,\n",
    "    min_samples_leaf=2,\n",
    "    random_state=42\n",
    ")\n",
    "dt_classifier.fit(X_train, y_train)\n",
    "\n",
    "\n",
    "y_pred = dt_classifier.predict(X_test)\n",
    "y_prob = dt_classifier.predict_proba(X_test)[:, 1]\n",
    "\n",
    "print(\"Accuracy:\", accuracy_score(y_test, y_pred))\n",
    "print(\"ROC AUC:\", roc_auc_score(y_test, y_prob))\n",
    "print(\"Classification Report:\\n\",\n",
    "      classification_report(y_test, y_pred),\n",
    "      confusion_matrix(y_test, y_pred))"
   ]
  },
  {
   "cell_type": "code",
   "execution_count": 61,
   "metadata": {
    "colab": {
     "base_uri": "https://localhost:8080/"
    },
    "executionInfo": {
     "elapsed": 10829,
     "status": "ok",
     "timestamp": 1738253397130,
     "user": {
      "displayName": "Elena Mihalkova",
      "userId": "02614433945098756290"
     },
     "user_tz": -180
    },
    "id": "HXFqFKkm-N3v",
    "outputId": "db0f8fa5-94af-45bc-e311-cda0ea2afaf7"
   },
   "outputs": [
    {
     "name": "stdout",
     "output_type": "stream",
     "text": [
      "Accuracy: 0.97\n",
      "ROC AUC: 0.49489795918367346\n",
      "Classification Report:\n",
      "               precision    recall  f1-score   support\n",
      "\n",
      "           0       0.98      0.99      0.98        98\n",
      "           1       0.00      0.00      0.00         2\n",
      "\n",
      "    accuracy                           0.97       100\n",
      "   macro avg       0.49      0.49      0.49       100\n",
      "weighted avg       0.96      0.97      0.97       100\n",
      " [[97  1]\n",
      " [ 2  0]]\n"
     ]
    }
   ],
   "source": [
    "tfidf = TfidfVectorizer()\n",
    "X = tfidf.fit_transform(slavery['cleaned_text'])\n",
    "y = slavery['Slavery_2_expert']\n",
    "\n",
    "X_train, X_test, y_train, y_test = train_test_split(X, y, test_size=0.2, random_state=42)\n",
    "\n",
    "dt_classifier = DecisionTreeClassifier(\n",
    "    max_depth=10,\n",
    "    min_samples_split=5,\n",
    "    min_samples_leaf=2,\n",
    "    random_state=42\n",
    ")\n",
    "dt_classifier.fit(X_train, y_train)\n",
    "\n",
    "\n",
    "y_pred = dt_classifier.predict(X_test)\n",
    "y_prob = dt_classifier.predict_proba(X_test)[:, 1]\n",
    "\n",
    "print(\"Accuracy:\", accuracy_score(y_test, y_pred))\n",
    "print(\"ROC AUC:\", roc_auc_score(y_test, y_prob))\n",
    "print(\"Classification Report:\\n\",\n",
    "      classification_report(y_test, y_pred),\n",
    "      confusion_matrix(y_test, y_pred))"
   ]
  }
 ],
 "metadata": {
  "colab": {
   "provenance": []
  },
  "kernelspec": {
   "display_name": "Python 3",
   "language": "python",
   "name": "python3"
  },
  "language_info": {
   "codemirror_mode": {
    "name": "ipython",
    "version": 3
   },
   "file_extension": ".py",
   "mimetype": "text/x-python",
   "name": "python",
   "nbconvert_exporter": "python",
   "pygments_lexer": "ipython3",
   "version": "3.10.0"
  }
 },
 "nbformat": 4,
 "nbformat_minor": 0
}
